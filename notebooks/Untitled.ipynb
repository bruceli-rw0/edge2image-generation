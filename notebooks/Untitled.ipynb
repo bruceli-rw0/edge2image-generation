{
 "cells": [
  {
   "cell_type": "code",
   "execution_count": 2,
   "id": "d6abe42b",
   "metadata": {
    "ExecuteTime": {
     "end_time": "2021-07-28T20:37:56.123297Z",
     "start_time": "2021-07-28T20:37:56.117680Z"
    }
   },
   "outputs": [
    {
     "name": "stdout",
     "output_type": "stream",
     "text": [
      "/Users/kobebruce/Documents/_Online_/fourthbrain/coding-capstone/edge2pic\n"
     ]
    }
   ],
   "source": [
    "%cd .."
   ]
  },
  {
   "cell_type": "code",
   "execution_count": 3,
   "id": "61a263fc",
   "metadata": {
    "ExecuteTime": {
     "end_time": "2021-07-28T20:38:00.117447Z",
     "start_time": "2021-07-28T20:37:59.415014Z"
    }
   },
   "outputs": [],
   "source": [
    "import torch"
   ]
  },
  {
   "cell_type": "code",
   "execution_count": 5,
   "id": "523f32a9",
   "metadata": {
    "ExecuteTime": {
     "end_time": "2021-07-28T20:38:26.299017Z",
     "start_time": "2021-07-28T20:38:26.110966Z"
    }
   },
   "outputs": [],
   "source": [
    "checkpoints = torch.load(\"checkpoints/latest_net_G_edges2shoes.pth\")"
   ]
  },
  {
   "cell_type": "code",
   "execution_count": 7,
   "id": "1b9407c7",
   "metadata": {
    "ExecuteTime": {
     "end_time": "2021-07-28T20:53:23.511689Z",
     "start_time": "2021-07-28T20:53:23.506646Z"
    }
   },
   "outputs": [
    {
     "data": {
      "text/plain": [
       "['model.model.0.weight',\n",
       " 'model.model.1.model.1.weight',\n",
       " 'model.model.1.model.2.weight',\n",
       " 'model.model.1.model.2.bias',\n",
       " 'model.model.1.model.2.running_mean',\n",
       " 'model.model.1.model.2.running_var',\n",
       " 'model.model.1.model.3.model.1.weight',\n",
       " 'model.model.1.model.3.model.2.weight',\n",
       " 'model.model.1.model.3.model.2.bias',\n",
       " 'model.model.1.model.3.model.2.running_mean',\n",
       " 'model.model.1.model.3.model.2.running_var',\n",
       " 'model.model.1.model.3.model.3.model.1.weight',\n",
       " 'model.model.1.model.3.model.3.model.2.weight',\n",
       " 'model.model.1.model.3.model.3.model.2.bias',\n",
       " 'model.model.1.model.3.model.3.model.2.running_mean',\n",
       " 'model.model.1.model.3.model.3.model.2.running_var',\n",
       " 'model.model.1.model.3.model.3.model.3.model.1.weight',\n",
       " 'model.model.1.model.3.model.3.model.3.model.2.weight',\n",
       " 'model.model.1.model.3.model.3.model.3.model.2.bias',\n",
       " 'model.model.1.model.3.model.3.model.3.model.2.running_mean',\n",
       " 'model.model.1.model.3.model.3.model.3.model.2.running_var',\n",
       " 'model.model.1.model.3.model.3.model.3.model.3.model.1.weight',\n",
       " 'model.model.1.model.3.model.3.model.3.model.3.model.2.weight',\n",
       " 'model.model.1.model.3.model.3.model.3.model.3.model.2.bias',\n",
       " 'model.model.1.model.3.model.3.model.3.model.3.model.2.running_mean',\n",
       " 'model.model.1.model.3.model.3.model.3.model.3.model.2.running_var',\n",
       " 'model.model.1.model.3.model.3.model.3.model.3.model.3.model.1.weight',\n",
       " 'model.model.1.model.3.model.3.model.3.model.3.model.3.model.2.weight',\n",
       " 'model.model.1.model.3.model.3.model.3.model.3.model.3.model.2.bias',\n",
       " 'model.model.1.model.3.model.3.model.3.model.3.model.3.model.2.running_mean',\n",
       " 'model.model.1.model.3.model.3.model.3.model.3.model.3.model.2.running_var',\n",
       " 'model.model.1.model.3.model.3.model.3.model.3.model.3.model.3.model.1.weight',\n",
       " 'model.model.1.model.3.model.3.model.3.model.3.model.3.model.3.model.3.weight',\n",
       " 'model.model.1.model.3.model.3.model.3.model.3.model.3.model.3.model.4.weight',\n",
       " 'model.model.1.model.3.model.3.model.3.model.3.model.3.model.3.model.4.bias',\n",
       " 'model.model.1.model.3.model.3.model.3.model.3.model.3.model.3.model.4.running_mean',\n",
       " 'model.model.1.model.3.model.3.model.3.model.3.model.3.model.3.model.4.running_var',\n",
       " 'model.model.1.model.3.model.3.model.3.model.3.model.3.model.5.weight',\n",
       " 'model.model.1.model.3.model.3.model.3.model.3.model.3.model.6.weight',\n",
       " 'model.model.1.model.3.model.3.model.3.model.3.model.3.model.6.bias',\n",
       " 'model.model.1.model.3.model.3.model.3.model.3.model.3.model.6.running_mean',\n",
       " 'model.model.1.model.3.model.3.model.3.model.3.model.3.model.6.running_var',\n",
       " 'model.model.1.model.3.model.3.model.3.model.3.model.5.weight',\n",
       " 'model.model.1.model.3.model.3.model.3.model.3.model.6.weight',\n",
       " 'model.model.1.model.3.model.3.model.3.model.3.model.6.bias',\n",
       " 'model.model.1.model.3.model.3.model.3.model.3.model.6.running_mean',\n",
       " 'model.model.1.model.3.model.3.model.3.model.3.model.6.running_var',\n",
       " 'model.model.1.model.3.model.3.model.3.model.5.weight',\n",
       " 'model.model.1.model.3.model.3.model.3.model.6.weight',\n",
       " 'model.model.1.model.3.model.3.model.3.model.6.bias',\n",
       " 'model.model.1.model.3.model.3.model.3.model.6.running_mean',\n",
       " 'model.model.1.model.3.model.3.model.3.model.6.running_var',\n",
       " 'model.model.1.model.3.model.3.model.5.weight',\n",
       " 'model.model.1.model.3.model.3.model.6.weight',\n",
       " 'model.model.1.model.3.model.3.model.6.bias',\n",
       " 'model.model.1.model.3.model.3.model.6.running_mean',\n",
       " 'model.model.1.model.3.model.3.model.6.running_var',\n",
       " 'model.model.1.model.3.model.5.weight',\n",
       " 'model.model.1.model.3.model.6.weight',\n",
       " 'model.model.1.model.3.model.6.bias',\n",
       " 'model.model.1.model.3.model.6.running_mean',\n",
       " 'model.model.1.model.3.model.6.running_var',\n",
       " 'model.model.1.model.5.weight',\n",
       " 'model.model.1.model.6.weight',\n",
       " 'model.model.1.model.6.bias',\n",
       " 'model.model.1.model.6.running_mean',\n",
       " 'model.model.1.model.6.running_var',\n",
       " 'model.model.3.weight',\n",
       " 'model.model.3.bias']"
      ]
     },
     "execution_count": 7,
     "metadata": {},
     "output_type": "execute_result"
    }
   ],
   "source": [
    "list(checkpoints.keys())"
   ]
  },
  {
   "cell_type": "code",
   "execution_count": 8,
   "id": "25060bd9",
   "metadata": {
    "ExecuteTime": {
     "end_time": "2021-07-28T20:54:18.229295Z",
     "start_time": "2021-07-28T20:54:18.225954Z"
    }
   },
   "outputs": [],
   "source": [
    "for key in list(checkpoints.keys()):\n",
    "    new_key = '.'.join(key.split('.')[1:])\n",
    "    checkpoints[new_key] = checkpoints[key]\n",
    "    del checkpoints[key]"
   ]
  },
  {
   "cell_type": "code",
   "execution_count": 12,
   "id": "ab294220",
   "metadata": {
    "ExecuteTime": {
     "end_time": "2021-07-28T20:55:36.903242Z",
     "start_time": "2021-07-28T20:55:36.899592Z"
    }
   },
   "outputs": [
    {
     "name": "stdout",
     "output_type": "stream",
     "text": [
      "['model.0.weight', 'model.1.model.1.weight', 'model.1.model.2.weight', 'model.1.model.2.bias', 'model.1.model.2.running_mean', 'model.1.model.2.running_var', 'model.1.model.3.model.1.weight', 'model.1.model.3.model.2.weight', 'model.1.model.3.model.2.bias', 'model.1.model.3.model.2.running_mean', 'model.1.model.3.model.2.running_var', 'model.1.model.3.model.3.model.1.weight', 'model.1.model.3.model.3.model.2.weight', 'model.1.model.3.model.3.model.2.bias', 'model.1.model.3.model.3.model.2.running_mean', 'model.1.model.3.model.3.model.2.running_var', 'model.1.model.3.model.3.model.3.model.1.weight', 'model.1.model.3.model.3.model.3.model.2.weight', 'model.1.model.3.model.3.model.3.model.2.bias', 'model.1.model.3.model.3.model.3.model.2.running_mean', 'model.1.model.3.model.3.model.3.model.2.running_var', 'model.1.model.3.model.3.model.3.model.3.model.1.weight', 'model.1.model.3.model.3.model.3.model.3.model.2.weight', 'model.1.model.3.model.3.model.3.model.3.model.2.bias', 'model.1.model.3.model.3.model.3.model.3.model.2.running_mean', 'model.1.model.3.model.3.model.3.model.3.model.2.running_var', 'model.1.model.3.model.3.model.3.model.3.model.3.model.1.weight', 'model.1.model.3.model.3.model.3.model.3.model.3.model.2.weight', 'model.1.model.3.model.3.model.3.model.3.model.3.model.2.bias', 'model.1.model.3.model.3.model.3.model.3.model.3.model.2.running_mean', 'model.1.model.3.model.3.model.3.model.3.model.3.model.2.running_var', 'model.1.model.3.model.3.model.3.model.3.model.3.model.3.model.1.weight', 'model.1.model.3.model.3.model.3.model.3.model.3.model.3.model.3.weight', 'model.1.model.3.model.3.model.3.model.3.model.3.model.3.model.4.weight', 'model.1.model.3.model.3.model.3.model.3.model.3.model.3.model.4.bias', 'model.1.model.3.model.3.model.3.model.3.model.3.model.3.model.4.running_mean', 'model.1.model.3.model.3.model.3.model.3.model.3.model.3.model.4.running_var', 'model.1.model.3.model.3.model.3.model.3.model.3.model.5.weight', 'model.1.model.3.model.3.model.3.model.3.model.3.model.6.weight', 'model.1.model.3.model.3.model.3.model.3.model.3.model.6.bias', 'model.1.model.3.model.3.model.3.model.3.model.3.model.6.running_mean', 'model.1.model.3.model.3.model.3.model.3.model.3.model.6.running_var', 'model.1.model.3.model.3.model.3.model.3.model.5.weight', 'model.1.model.3.model.3.model.3.model.3.model.6.weight', 'model.1.model.3.model.3.model.3.model.3.model.6.bias', 'model.1.model.3.model.3.model.3.model.3.model.6.running_mean', 'model.1.model.3.model.3.model.3.model.3.model.6.running_var', 'model.1.model.3.model.3.model.3.model.5.weight', 'model.1.model.3.model.3.model.3.model.6.weight', 'model.1.model.3.model.3.model.3.model.6.bias', 'model.1.model.3.model.3.model.3.model.6.running_mean', 'model.1.model.3.model.3.model.3.model.6.running_var', 'model.1.model.3.model.3.model.5.weight', 'model.1.model.3.model.3.model.6.weight', 'model.1.model.3.model.3.model.6.bias', 'model.1.model.3.model.3.model.6.running_mean', 'model.1.model.3.model.3.model.6.running_var', 'model.1.model.3.model.5.weight', 'model.1.model.3.model.6.weight', 'model.1.model.3.model.6.bias', 'model.1.model.3.model.6.running_mean', 'model.1.model.3.model.6.running_var', 'model.1.model.5.weight', 'model.1.model.6.weight', 'model.1.model.6.bias', 'model.1.model.6.running_mean', 'model.1.model.6.running_var', 'model.3.weight', 'model.3.bias']\n"
     ]
    }
   ],
   "source": [
    "print(list(checkpoints.keys()))"
   ]
  }
 ],
 "metadata": {
  "kernelspec": {
   "display_name": "machine_learning",
   "language": "python",
   "name": "machine_learning"
  },
  "language_info": {
   "codemirror_mode": {
    "name": "ipython",
    "version": 3
   },
   "file_extension": ".py",
   "mimetype": "text/x-python",
   "name": "python",
   "nbconvert_exporter": "python",
   "pygments_lexer": "ipython3",
   "version": "3.7.9"
  },
  "toc": {
   "base_numbering": 1,
   "nav_menu": {},
   "number_sections": true,
   "sideBar": true,
   "skip_h1_title": false,
   "title_cell": "Table of Contents",
   "title_sidebar": "Contents",
   "toc_cell": false,
   "toc_position": {},
   "toc_section_display": true,
   "toc_window_display": false
  }
 },
 "nbformat": 4,
 "nbformat_minor": 5
}
